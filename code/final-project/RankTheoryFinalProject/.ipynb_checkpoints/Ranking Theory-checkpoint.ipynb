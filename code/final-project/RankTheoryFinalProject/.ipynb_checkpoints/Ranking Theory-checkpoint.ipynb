{
 "cells": [
  {
   "cell_type": "markdown",
   "id": "b4d8a53a-6eb8-4721-bba8-2d0d038d4748",
   "metadata": {},
   "source": [
    "<h2><center>Ranking Theory: Theory of Beliefs and Disbeliefs</center></h2>\n",
    "<center>\"Belief is thus the mental state or function of cognising reality\" - William James</center>"
   ]
  },
  {
   "cell_type": "markdown",
   "id": "83a77a0a-40a4-4e7f-a26d-4aa9654d6345",
   "metadata": {},
   "source": [
    "<div style=\"text-align:center\"><img src=\"./rank1.png\" style=\"height: 300px;\" /></div>"
   ]
  },
  {
   "cell_type": "markdown",
   "id": "916f1e22-f15e-4713-9499-ec7b5fe851d7",
   "metadata": {},
   "source": [
    "<div class=\"alert alert-block alert-info\">\n",
    "<center>Uncertainty is not always probabilistic</center>"
   ]
  },
  {
   "cell_type": "markdown",
   "id": "eaf8443e-fd62-4fac-88b7-4f251f7a15e2",
   "metadata": {
    "jp-MarkdownHeadingCollapsed": true,
    "tags": []
   },
   "source": [
    "An alternative to probability theory is ranking theory, where uncertainty is measured using degrees of surprise on the integer scale from 0 to $\\infty$. see [(Rienstra, 2019)](https://www.ijcai.org/proceedings/2019/798). \n",
    "\n",
    "These values, called ranks, can be understood as degrees of surprise: 0 for not surprising, 1 for surprising, 2 for even more surprising, and so on, with $\\infty$ for impossible. We can also intereprt this as  normal means rank 0, while exceptional means rank $\\geq 1$ [(Rienstra, 2019)](https://www.ijcai.org/proceedings/2019/798). \n",
    "\n",
    "> In different terms, a ranking function $\\kappa$  represents a grading of disbelief on a scale from 0 to $\\infty$; where disbelief is maximal for the empty set, representing the contradiction, and minimal for the full set [(Raidl, 2019)](https://link.springer.com/article/10.1007/s10670-018-00102-1).\n",
    "\n",
    "Similarities to probability: ranking functions are updated by conditionalization, and can be represented compactyl [(Rienstra, 2019)](https://www.ijcai.org/proceedings/2019/798). \n",
    "\n",
    "\n",
    "A *ranking function* over a set $\\Omega$ of possible worlds is a function \n",
    "<div style=\"font-size: 20px\"> $$\\kappa : \\Omega  \\rightarrow \\mathbb{N} \\cup \\{ \\infty \\}$$  </div>\n",
    "such that $\\kappa (w) = 0$ for at least one $ w \\in \\Omega$.\n",
    "    \n"
   ]
  },
  {
   "cell_type": "markdown",
   "id": "550c198c-5d63-4eca-b459-83f261e7f188",
   "metadata": {},
   "source": [
    "Let $\\mathcal{A}$ be an algebra over $W$. Then $\\kappa$  is a negative *ranking function* for $\\mathcal{A}$ iff $\\kappa$ is a function from $\\mathcal{A}$ into $\\mathbb{R}^*$ = $\\mathbb{R}^+$  $\\cup \\{ \\infty\\} $ i.e., into the set of non-negative reals plus infinity) such that for all $A, B \\in A$:\n",
    "\n",
    "<div style=\"font-size: 20px\">\n",
    "\n",
    "$$\\kappa (W) \\text  { = 0  and } \\kappa =  \\emptyset = \\infty, $$"
   ]
  },
  {
   "cell_type": "markdown",
   "id": "c75fe1c5-d442-416c-8b83-c70d0ff2c32c",
   "metadata": {},
   "source": [
    "$$\\kappa (A \\cup B) = \\text{min } \\{ \\kappa(A), \\kappa(B) \\} \\text{ [law of disjunction (for negative ranks)]} $$ \n",
    "\n",
    "\n",
    "$\\kappa(A)$ is called the *(negative) rank* of A.\n",
    "<br>\n",
    "</br>\n",
    "\n",
    "<br>\n",
    "It immediately follows for each $A \\in \\mathcal{A}$\n",
    "</br>\n",
    "\n",
    "either $\\kappa(A)$= 0 or $\\kappa(\\overline{A})$ = 0 or both [law of negation].\n",
    "   \n",
    "The negative ranking function $\\kappa$ is a grading of disbelief.\n",
    "If $\\kappa$(A) = 0, $A$ is not disbelieved at all; if $\\kappa$(A) > 0, A is disbelieved to some positive degree. \n",
    "\n",
    "Belief in A is the same as disbelief in A; \n",
    "> A is believed in $\\kappa$ iff $\\kappa$(A) > 0 s (via the law of negation), \n",
    "> but is not equivalent to $\\kappa$(A) = 0\n",
    "> when $\\kappa$(A) = 0; $\\kappa$ is neutral or unopinionated concerning A"
   ]
  },
  {
   "cell_type": "markdown",
   "id": "d28f41b8-a607-441f-840a-ccfbbdc39043",
   "metadata": {},
   "source": [
    "**Positive ranking function (p.r.f):** $\\beta$ is defined by $\\beta$(A) ∶= $\\kappa(\\overline{A})$\n",
    "<br></br>\n",
    "**Two-sided ranking function (t.r.f):** $\\tau$ by $\\tau$(A) ∶= $\\beta$(A) − $\\kappa$(A) \n",
    "<br> </br>\n",
    "**Dynamic part (conditionalisation):**\n",
    "\n",
    "\n",
    "Let $\\kappa$ be a negative ranking function over $\\mathcal{A}$ and A $\\in$ $\\mathcal{A}$ such that $\\kappa$(A) < $\\infty$ \n",
    "\n",
    "Conditional negative ranking function given A is defined as follows:\n",
    "for all B $\\in$ $\\mathcal{A}$\n",
    "\n",
    "$$ \\kappa(B|A) \\text {: = } \\kappa(B \\cap A) \\text{ - } \\kappa(A)$$\n",
    "\n",
    "**Three Structural Parallels with probability theory**\n",
    "\n",
    "*Static parallel betwen the definition of a negative ranking function and a probability function:*\n",
    "\n",
    "A probability function over $\\mathcal{A}$ is a total function $P$ ∶ $\\mathcal{A}$  $\\to$ $\\mathbb{R}^+$  that\n",
    "satisfies\n",
    "*   $P(\\Omega)$ = 1 , (normed)\n",
    "*  for all $A, B \\in \\mathcal{A}$, if A $\\cap$ B = $\\emptyset$ then P(A $\\cup$ B) = P(A) + P(B). (Finite additivity)\n",
    "\n",
    "We obtain:\n",
    "\n",
    "*  P(A) + P(A) = 1, (Probabilistic law of negation)\n",
    "*  if A $\\subseteq$ B then P(A) $\\leq$ P(B) . (Monotonicity)\n",
    "\n",
    "\n",
    "We can see that:\n",
    " Probability and ranking functions are structurally similar because \n",
    " *  Both functions are non-negative, but the domains are different—it is[ 0, $/infty$] for a negative ranking function and [0, 1] for a probability function\n",
    " > The real difference is encapsulated in the law of how degrees combine when disjoint unions are taken \n",
    " \n",
    "Conjoining values of disjoint unions, probability theory uses a sum where ranking theory uses a minimum\n",
    ">The meaning of the order is inverted (w.r.t. ⊆).\n",
    "\n",
    "Ranking-theoretic independence and probabilistic independence are structurally similar\n",
    "> Probability theory uses the product formulation P(A $\\cap$ B) = P(A) × P(B) to characterise independence between A and B, ranking theory uses the sum formulation $\\kappa$(A $\\cap$ B) = $\\kappa$(A) + $\\kappa$(B) \n",
    "> >Or, weaker: For two atomically independent probability functions P, Q, their independent combination is P × Q , whereas for two atomically independent ranking functions $\\kappa$, $\\gamma$ , their independent combination is $\\kappa$ +$\\gamma$.\n",
    "\n",
    "\n",
    "*Dynamic parallel:*\n",
    "\n",
    "Let $P$ be a probability function over $\\mathcal{A}$ and A $\\in$ $\\mathcal{A}$ such that P(A) > 0.\n",
    "The conditional probability function given A is defined as follows: for all B $\\in$ $\\mathcal{A}$,\n",
    "\n",
    "$$ P(B|A) := P(B \\cap A)/ P(A) $$\n",
    "\n",
    "\n",
    "Probabilistic conditionalisation and ranking conditionalisation are structurally similar.\n",
    "\n",
    "Both conditionalisations are undefined iff $A$ takes the value assigned to $\\emptyset$ \n",
    "> The crucial difference is: probabilistic conditionalisation divides by P(A), rank conditionalisation subtracts by %\\kappa%(A)\n",
    "> Ranking subtraction as the analogue to probabilistic normalisation by division\n"
   ]
  },
  {
   "cell_type": "markdown",
   "id": "1b05bd9a-1e54-442b-927d-1ac0dc5df076",
   "metadata": {},
   "source": [
    "<h1><center> Questionnaire </center></h1>\n",
    "\n",
    "**Grade your degrees of disbelief:** Language Demographics of Quebec\n",
    "\n",
    "$\\text {1. Suppose you meet a person who has only lived in Quebec since birth and is monolingual.}$\n",
    "$\\text {Would you be surprised to learn that they only speak ________?}$\n",
    "\n",
    "* French\n",
    "* Spanish\n",
    "* English\n",
    "* Greek\n",
    "* Polish\n",
    "* Korean\n",
    "* Urdu\n",
    "* Japanese\n",
    "* Spanish or Urdu?\n",
    "\n",
    "**Grade your degrees of disbelief:** September Weather in Boston, Massachusetts, United States\n",
    "\n",
    "$\\text {2. Suppose you are planning a day trip to Boston in September}.$ \n",
    "$\\text {Would you be surprised to learn that the daytime high temperatures will range between ________ degrees Celsius (°C)?}$\n",
    "\n",
    "* -29 to -20\n",
    "* -19 to -10\n",
    "* -9 to 0\n",
    "* 1 to 10\n",
    "* 11 to 20\n",
    "* 21 to 30\n",
    "* 31 to 40\n",
    "* 41 to 50\n",
    "* -9 to 0 or 1 to 10\n",
    "\n",
    "**Grade your degrees of disbelief:** Music Genre Preference\n",
    "\n",
    "$\\text {3. Suppose you are an employee at an automotive service centre.}$\n",
    "\n",
    "$\\text {You have been invited to a work karaoke party, and you know your co-worker Tom will be there.}$\n",
    "$\\text {Tom is a Caucasian male in his 20s who grew up in a rural area and loves to wear his cowboy hat.}$\n",
    "$\\text {Would it surprise you to learn that Tom enjoys singing along to ________ music?}$ \n",
    "\n",
    "\n",
    "* Pop\n",
    "* Rock\n",
    "* Hip Hop\n",
    "* Heavy Metal\n",
    "* Country\n",
    "* Jazz\n",
    "* Opera\n",
    "* Folk\n",
    "* Jazz or Opera"
   ]
  },
  {
   "cell_type": "markdown",
   "id": "9938ced2-1004-4c9e-b046-9cd8eed7d1d6",
   "metadata": {},
   "source": [
    "<center> Equation translating from rankings to probability </center>\n",
    "\n",
    "<center> $P(w) \\longmapsto \\kappa^a_P(w) := log_a \\frac{P(w)}{p} $ </center>\n",
    "\n",
    "<br></br>\n",
    "\n",
    "<center> Equation translating from  probability to rankings </center>\n",
    "\n",
    "<center> $\\kappa(w) \\longmapsto P^a_\\kappa(w) := \\frac{a^{\\kappa(w)}}{Z (a, \\kappa)} $ </center>"
   ]
  }
 ],
 "metadata": {
  "kernelspec": {
   "display_name": "Python 3 (ipykernel)",
   "language": "python",
   "name": "python3"
  },
  "language_info": {
   "codemirror_mode": {
    "name": "ipython",
    "version": 3
   },
   "file_extension": ".py",
   "mimetype": "text/x-python",
   "name": "python",
   "nbconvert_exporter": "python",
   "pygments_lexer": "ipython3",
   "version": "3.9.5"
  }
 },
 "nbformat": 4,
 "nbformat_minor": 5
}
